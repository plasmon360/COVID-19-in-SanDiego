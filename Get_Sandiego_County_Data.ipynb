{
 "cells": [
  {
   "cell_type": "code",
   "execution_count": 1,
   "metadata": {},
   "outputs": [],
   "source": [
    "import tabula\n",
    "import requests\n",
    "import datetime\n",
    "import pandas as pd\n",
    "import json\n",
    "import os\n",
    "from dateutil import parser\n",
    "from datetime import datetime\n",
    "\n",
    "\n",
    "from filecmp import cmp \n",
    "from pathlib import Path"
   ]
  },
  {
   "cell_type": "markdown",
   "metadata": {},
   "source": [
    "### Download the Covid-19 case data from San Diego County"
   ]
  },
  {
   "cell_type": "code",
   "execution_count": 2,
   "metadata": {},
   "outputs": [],
   "source": [
    "url = 'https://www.sandiegocounty.gov/content/dam/sdc/hhsa/programs/phs/Epidemiology/COVID-19%20Summary%20of%20Cases%20by%20Zip%20Code.pdf'\n",
    "pdf= requests.get(url)\n",
    "with open(f'./Data/Total_Count/Temp/covid19_in_sd_{datetime.now().strftime(\"%d-%b-%Y-%H_%M_%S\")}.pdf','wb') as f:\n",
    "    f.write(pdf.content)\n"
   ]
  },
  {
   "cell_type": "code",
   "execution_count": 3,
   "metadata": {},
   "outputs": [],
   "source": [
    "def tabula_convert_pdf_to_df(pdf):\n",
    "    print(pdf)\n",
    "    #Because pdfs are saved with different dateformat in the name, use different method.\n",
    "    try:\n",
    "        pdf_download_date = datetime.strptime(\"\".join(str(pdf.name).split('_')[3:]).split('.')[0],\"%d-%b-%Y-%H%M%S\") \n",
    "    except ValueError as e:\n",
    "        pdf_download_date = datetime.strptime(\"\".join(str(pdf.name).split('_')[3:]).split('.')[0],\"%Y-%M-%d\") \n",
    "    \n",
    "    print(f'Converting {pdf} to df')\n",
    "    #Since they keep changing the format of the pdf we need to read pdf case by case.\n",
    "    if  pdf_download_date < datetime.strptime('23-04-2020', \"%d-%m-%Y\"):\n",
    "        raw_data = tabula.read_pdf(pdf,stream=False,pages=1)[0]\n",
    "        #data extraction and munging\n",
    "        df = raw_data.dropna(how='all').reset_index().drop(columns=['index'])\n",
    "        text_data = df.columns[0]\n",
    "        df.columns = df.iloc[0].values\n",
    "        df = df.drop(axis=0, labels=0).rename(columns={'Count':'CaseCount'})\n",
    "        title = text_data.split('\\r')[-1]    \n",
    "        count_data= pd.DataFrame({\n",
    "                  'ZipCode' : pd.concat([df.iloc[:,0].astype(str),\n",
    "                                         df.iloc[:,2].astype(str)]), \n",
    "\n",
    "                   'CaseCount': pd.concat([df.iloc[:,1],\n",
    "                                           df.iloc[:,3]])\n",
    "                 })\n",
    "        count_data['TotalCount'] = count_data[(count_data['ZipCode']=='Total') | (count_data['ZipCode']=='TOTAL') ]['CaseCount'].values[0]\n",
    "        count_data = count_data[(count_data['ZipCode'] != 'Total') & (count_data['ZipCode'] != 'TOTAL')]\n",
    "        count_data['RatePer100000'] =  \"Unknown\"\n",
    "        \n",
    "    else:\n",
    "        raw_data = tabula.read_pdf(pdf,stream=True,pages=1, lattice=True)\n",
    "        text_data = raw_data[0].columns[0]\n",
    "        title = text_data.split('\\r')[-1] \n",
    "      \n",
    "        count_data = pd.concat([raw_data[1], raw_data[2]],axis = 0)\n",
    "        count_data = count_data.rename(columns={'Zip Code':'ZipCode', 'Count':'CaseCount', 'Rate per 100,000*': \"RatePer100000\"})\n",
    "        total_count =  count_data[(count_data['ZipCode']=='San Diego County Total') | (count_data['ZipCode']=='San Diego County')]['CaseCount'].values[0] \n",
    "        total_count = int(\"\".join(x for x in total_count if x.isdigit()))\n",
    "        count_data['TotalCount'] = total_count\n",
    "        count_data = count_data[(count_data['ZipCode'] != 'San Diego County Total') & (count_data['ZipCode'] != 'San Diego County')]\n",
    "        count_data['RatePer100000'] =  count_data['RatePer100000'].replace('**',\"Unknown\")\n",
    "\n",
    "    #parse dates\n",
    "    dates = []\n",
    "    for _ in title.split():\n",
    "        try:\n",
    "            dates.append(parser.parse(_, fuzzy=True))\n",
    "        except Exception as e:\n",
    "            pass\n",
    "    date = dates[0]\n",
    "\n",
    "    updated_time = datetime.combine(dates[1],datetime.time(dates[2]))\n",
    "\n",
    "\n",
    "    count_data.dropna(how='any', inplace=True)\n",
    "    count_data['ReportedDate'] = date \n",
    "    count_data['UpdatedDatetime'] = updated_time\n",
    "    count_data['CaseCount'] = count_data['CaseCount'].astype('int16')\n",
    "    count_data['ZipCode'] = count_data['ZipCode'].astype('str')\n",
    "    count_data['ZipCode'] = count_data['ZipCode'].str.replace('*','')\n",
    "\n",
    "    \n",
    "    return count_data\n",
    " "
   ]
  },
  {
   "cell_type": "markdown",
   "metadata": {},
   "source": [
    "### Check if downloaded pdf in temp folder is same as the latest pdf"
   ]
  },
  {
   "cell_type": "code",
   "execution_count": 4,
   "metadata": {},
   "outputs": [],
   "source": [
    "latest_pdfs = !ls -Art1 ./Data/Total_Count/*.pdf\n",
    "latest_pdfs_paths = [Path(pdf) for pdf in latest_pdfs]\n",
    "\n",
    "def get_date_from_pdf(pdf):\n",
    "    try:\n",
    "        pdf_download_date = datetime.strptime(\"\".join(str(pdf.name).split('_')[3:]).split('.')[0],\"%d-%b-%Y-%H%M%S\") \n",
    "    except ValueError as e:\n",
    "        pdf_download_date = datetime.strptime(\"\".join(str(pdf.name).split('_')[3:]).split('.')[0],\"%Y-%M-%d\") \n",
    "    return pdf_download_date\n",
    "\n",
    "latest_pdfs_time = [get_date_from_pdf(pdf) for pdf in latest_pdfs_paths] \n",
    "latest_pdf = latest_pdfs_paths[latest_pdfs_time.index(max(latest_pdfs_time))]\n"
   ]
  },
  {
   "cell_type": "code",
   "execution_count": 5,
   "metadata": {},
   "outputs": [
    {
     "name": "stdout",
     "output_type": "stream",
     "text": [
      "Latest PDF Data/Total_Count/covid19_in_sd_27-Jun-2020-23_23_30.pdf\n",
      "Downloaded PDF Data/Total_Count/Temp/covid19_in_sd_28-Jun-2020-21_26_54.pdf\n"
     ]
    }
   ],
   "source": [
    "downloaded_pdfs = !ls -Art1 ./Data/Total_Count/Temp/*.pdf | tail -1\n",
    "downloaded_pdf = Path(downloaded_pdfs[0])\n",
    "print(f'Latest PDF {latest_pdf}')\n",
    "print(f'Downloaded PDF {downloaded_pdf}')"
   ]
  },
  {
   "cell_type": "code",
   "execution_count": null,
   "metadata": {},
   "outputs": [],
   "source": []
  },
  {
   "cell_type": "code",
   "execution_count": 6,
   "metadata": {},
   "outputs": [
    {
     "name": "stdout",
     "output_type": "stream",
     "text": [
      "Downloaded file is unique\n",
      "Data/Total_Count/Temp/covid19_in_sd_28-Jun-2020-21_26_54.pdf\n",
      "Converting Data/Total_Count/Temp/covid19_in_sd_28-Jun-2020-21_26_54.pdf to df\n",
      "Date through 2020-06-27, Updated on 2020-06-28 08:00 AM, TotalCount: 13334\n",
      "Moving the file from TEMP directory to directory with all unique pdfs\n"
     ]
    },
    {
     "name": "stderr",
     "output_type": "stream",
     "text": [
      "<ipython-input-6-1d2f29c4e71a>:29: FutureWarning: Sorting because non-concatenation axis is not aligned. A future version\n",
      "of pandas will change to not sort by default.\n",
      "\n",
      "To accept the future behavior, pass 'sort=False'.\n",
      "\n",
      "To retain the current behavior and silence the warning, pass 'sort=True'.\n",
      "\n",
      "  all_dates_count_df = pd.concat([all_dates_count_df,count_data])\n"
     ]
    }
   ],
   "source": [
    "from filecmp import cmp\n",
    "\n",
    "# If downloaded file is the same as the latest pdf, then delete the file and do nothing\n",
    "if cmp(downloaded_pdf, latest_pdf, shallow=True):\n",
    "    print('File already exists. Deleting the temp file')\n",
    "    os.remove(downloaded_pdf)\n",
    "# If downloaded file is different from the latest pdf, then \n",
    "# 1) load all_dates_count json file with all the data into a df\n",
    "# 2) read the downloaded file into a df\n",
    "# 3) concateneate the two files \n",
    "# 4) update the all_dates_count json file contents\n",
    "# 5) Move the downloaded file out of the TEMP directory and move it to the folder with all unique pdfs\n",
    "else:\n",
    "    print('Downloaded file is unique')\n",
    "    \n",
    "    ## Step 1\n",
    "    with open('./Data/Total_Count/all_dates_count_df.json','r') as f:\n",
    "        all_dates_count_df = pd.read_json(f, convert_dates=['ReportedDate', 'UpdatedDatetime'])\n",
    "    \n",
    "    ## Step 2\n",
    "    count_data = tabula_convert_pdf_to_df(downloaded_pdf)\n",
    "    total_count = count_data['TotalCount'].unique()[0]\n",
    "    updated_date = count_data['UpdatedDatetime'].iloc[0].to_pydatetime()\n",
    "    reported_date = count_data['ReportedDate'].iloc[0].to_pydatetime()\n",
    "    title = f'Date through {reported_date:%Y-%m-%d}, Updated on {updated_date:%Y-%m-%d %I:%M %p}'\n",
    "    print(f'{title}, TotalCount: {total_count}')\n",
    "    \n",
    "    ## Step 3\n",
    "    all_dates_count_df = pd.concat([all_dates_count_df,count_data])\n",
    "    all_dates_count_df = all_dates_count_df.sort_values(by='ReportedDate', ascending=False).reset_index(drop=True)\n",
    "    \n",
    "    ## Step 4 \n",
    "    all_dates_count_df.to_json('./Data/Total_Count/all_dates_count_df.json')\n",
    "    \n",
    "    # Step 5 \n",
    "    print('Moving the file from TEMP directory to directory with all unique pdfs')\n",
    "    os.rename(downloaded_pdf,latest_pdf.parent/downloaded_pdf.name)"
   ]
  },
  {
   "cell_type": "code",
   "execution_count": 7,
   "metadata": {},
   "outputs": [
    {
     "data": {
      "image/png": "[encoded data removed]",
      "text/plain": [
       "<Figure size 1440x360 with 1 Axes>"
      ]
     },
     "metadata": {
      "needs_background": "light"
     },
     "output_type": "display_data"
    }
   ],
   "source": [
    "with open('./Data/Total_Count/all_dates_count_df.json','r') as f:\n",
    "    all_dates_count_df = pd.read_json(f,convert_dates=['ReportedDate', 'UpdatedDatetime'])\n",
    "#all_dates_count_df = all_dates_count_df[all_dates_count_df['ReportedDate'] != '2020-06-09']\n",
    "#all_dates_count_df.to_json('./Data/Total_Count/all_dates_count_df.json')\n",
    "#all_dates_count_df\n",
    "\n",
    "\n",
    "ax = all_dates_count_df.groupby(['UpdatedDatetime','ReportedDate'])['TotalCount'].count().plot(kind='bar', figsize=(20,5))\n",
    "_ = ax.set_ylabel('NUmber of counties reported')\n",
    "#If the number is more than 101, then file is added twice somehow!. If double counted, deleted them with the two commented lines above"
   ]
  },
  {
   "cell_type": "markdown",
   "metadata": {},
   "source": [
    "### Old way of doing things\n",
    "\n",
    "from filecmp import cmp\n",
    "from pathlib import Path\n",
    "\n",
    "def get_only_unique_pdf(pdfs):\n",
    "    # get only unique pdfs\n",
    "    unique_pdfs = [pdfs[0]]\n",
    "    for file in pdfs[1:]:\n",
    "        duplicate = False\n",
    "        for uf in unique_pdfs:\n",
    "            duplicate |= cmp(file, uf, shallow=True)\n",
    "        if not duplicate:\n",
    "            unique_pdfs.append(file)\n",
    "    return unique_pdfs\n",
    "    \n",
    "\n",
    "curr_dir = Path('.')\n",
    "pdfs = list(curr_dir.glob('**/covid19_in_sd_*.pdf'))\n",
    "pdfs.sort(key=os.path.getmtime)\n",
    "unique_pdfs = get_only_unique_pdf(pdfs)\n",
    "\n",
    "print(unique_pdfs)\n",
    "    \n",
    "\n",
    "### Remove unncessary pdf files if there are  any duplicates\n",
    "\n",
    "import os\n",
    "for pdf in pdfs:\n",
    "    if pdf not in unique_pdfs:\n",
    "        os.remove(pdf)\n",
    "        \n",
    "! ls *.pdf \n",
    "\n",
    "### Read the pdf and clean up the data\n",
    "\n",
    "all_dates_count_data = []   \n",
    "for pdf in unique_pdfs:\n",
    "    count_data = tabula_convert_pdf_to_df(pdf)\n",
    "    total_count = count_data['TotalCount'].unique()[0]\n",
    "    updated_date = count_data['UpdatedDatetime'].iloc[0].to_pydatetime()\n",
    "    reported_date = count_data['ReportedDate'].iloc[0].to_pydatetime()\n",
    "    title = f'Date through {reported_date:%Y-%m-%d}, Updated on {updated_date:%Y-%m-%d %I:%M %p}'\n",
    "    print(f'{title}, TotalCount: {total_count}')\n",
    "    all_dates_count_data.append(count_data)\n",
    "all_dates_count_df = pd.concat(all_dates_count_data)\n",
    "\n",
    "all_dates_count_df = all_dates_count_df.sort_values(by='ReportedDate', ascending=False).reset_index(drop=True)\n",
    "all_dates_count_df\n",
    "\n",
    "### Store the data\n",
    "\n",
    "all_dates_count_df.to_json('all_dates_count_df.json')"
   ]
  },
  {
   "cell_type": "code",
   "execution_count": null,
   "metadata": {},
   "outputs": [],
   "source": []
  }
 ],
 "metadata": {
  "kernelspec": {
   "display_name": "Python 3",
   "language": "python",
   "name": "python3"
  },
  "language_info": {
   "codemirror_mode": {
    "name": "ipython",
    "version": 3
   },
   "file_extension": ".py",
   "mimetype": "text/x-python",
   "name": "python",
   "nbconvert_exporter": "python",
   "pygments_lexer": "ipython3",
   "version": "3.8.2"
  }
 },
 "nbformat": 4,
 "nbformat_minor": 4
}
